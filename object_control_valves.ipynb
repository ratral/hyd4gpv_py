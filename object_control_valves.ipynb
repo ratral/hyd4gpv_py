{
  "nbformat": 4,
  "nbformat_minor": 0,
  "metadata": {
    "colab": {
      "provenance": [],
      "collapsed_sections": [],
      "mount_file_id": "1dOxeo1my0n_oxam6SlsEuHqynlnCNvDV",
      "authorship_tag": "ABX9TyOsgm2d0fBCBmvRs513Fz5P",
      "include_colab_link": true
    },
    "kernelspec": {
      "name": "python3",
      "display_name": "Python 3"
    },
    "language_info": {
      "name": "python"
    }
  },
  "cells": [
    {
      "cell_type": "markdown",
      "metadata": {
        "id": "view-in-github",
        "colab_type": "text"
      },
      "source": [
        "<a href=\"https://colab.research.google.com/github/ratral/hyd4gpv_py/blob/main/object_control_valves.ipynb\" target=\"_parent\"><img src=\"https://colab.research.google.com/assets/colab-badge.svg\" alt=\"Open In Colab\"/></a>"
      ]
    },
    {
      "cell_type": "code",
      "execution_count": 3,
      "metadata": {
        "id": "PplYWMWMX5rY"
      },
      "outputs": [],
      "source": [
        "import sys\n",
        "import os\n",
        "import numpy as np\n",
        "#from absl import app"
      ]
    },
    {
      "cell_type": "code",
      "source": [
        "# From: https://colab.research.google.com/github/jckantor/cbe61622/blob/master/docs/A.02-Downloading_Python_source_files_from_github.ipynb#scrollTo=ZJkF4Oi5v1xO\n",
        "# Downloading from Github repository the individual Python file \"hyd4gpv.py\" \n",
        "# with wget The file \"hyd4gpv.py\" is located in the top-level src directory of\n",
        "# a github repository. To access the file, use the shell command wget with an \n",
        "# https link to the raw content of the main branch. \n",
        "# The prefix exclamation/bang symbol ! causes the following line to be executed\n",
        "# by the system command line rather than the Python kernal.\n",
        "# The --no-cache option ensures the latest version is downloaded.\n",
        "# The --backups=1 option saves any prior version of the same code file to a backup.\n",
        "\n",
        "url = f\"https://raw.githubusercontent.com/ratral/hyd4gpv_py/main/hyd4gpv.py\"\n",
        "!wget --no-cache --backups=1 {url}"
      ],
      "metadata": {
        "id": "T9eQEhDXVcgM",
        "colab": {
          "base_uri": "https://localhost:8080/"
        },
        "outputId": "10ca34c3-9526-4044-c3dc-5df486900b5a"
      },
      "execution_count": 4,
      "outputs": [
        {
          "output_type": "stream",
          "name": "stdout",
          "text": [
            "--2022-09-14 08:34:47--  https://raw.githubusercontent.com/ratral/hyd4gpv_py/main/hyd4gpv.py\n",
            "Resolving raw.githubusercontent.com (raw.githubusercontent.com)... 185.199.108.133, 185.199.109.133, 185.199.110.133, ...\n",
            "Connecting to raw.githubusercontent.com (raw.githubusercontent.com)|185.199.108.133|:443... connected.\n",
            "HTTP request sent, awaiting response... 200 OK\n",
            "Length: 6974 (6.8K) [text/plain]\n",
            "Saving to: ‘hyd4gpv.py’\n",
            "\n",
            "\rhyd4gpv.py            0%[                    ]       0  --.-KB/s               \rhyd4gpv.py          100%[===================>]   6.81K  --.-KB/s    in 0s      \n",
            "\n",
            "2022-09-14 08:34:47 (59.5 MB/s) - ‘hyd4gpv.py’ saved [6974/6974]\n",
            "\n"
          ]
        }
      ]
    },
    {
      "cell_type": "code",
      "source": [
        "py_file_location = \"/content/\"\n",
        "sys.path.append(os.path.abspath(py_file_location))\n",
        "import hyd4gpv as hyd"
      ],
      "metadata": {
        "id": "kcf7foBXHhFw"
      },
      "execution_count": 5,
      "outputs": []
    },
    {
      "cell_type": "markdown",
      "source": [
        "# Examples"
      ],
      "metadata": {
        "id": "Sco5rDsqFu3e"
      }
    },
    {
      "cell_type": "markdown",
      "source": [
        "## Water properties"
      ],
      "metadata": {
        "id": "UL5NQCz9Gbsh"
      }
    },
    {
      "cell_type": "markdown",
      "source": [
        "Now we can create an **instance** of the **class** called *water_properties*"
      ],
      "metadata": {
        "id": "v6O2WC-9bg7E"
      }
    },
    {
      "cell_type": "code",
      "source": [
        "def main():\n",
        "    # process non-flag arguments\n",
        "    w0 = hyd.Water_Properties()\n",
        "    w1 = hyd.Water_Properties(30)\n",
        "    w2 = hyd.Water_Properties(45)\n",
        "\n",
        "    print((w0.tempC, w1.tempC, w2.tempC) )\n",
        "    print((w0.density(), w0.viscosity(),  w0.k_viscosity(), w0.p_vapour()))\n",
        "    print(w0.relative_density())\n",
        "\n",
        "if __name__ == '__main__':\n",
        "    main()"
      ],
      "metadata": {
        "id": "AwdIIvXUa-9z",
        "colab": {
          "base_uri": "https://localhost:8080/"
        },
        "outputId": "869b7d54-81d5-48a2-b149-ec01493d3737"
      },
      "execution_count": 6,
      "outputs": [
        {
          "output_type": "stream",
          "name": "stdout",
          "text": [
            "(20, 30, 45)\n",
            "(1002.0885631021275, 1.0176488244921045, 1.0155278305360633, 0.023383399784500186)\n",
            "1.0020885631021275\n"
          ]
        }
      ]
    },
    {
      "cell_type": "markdown",
      "source": [
        "We can look the attributes"
      ],
      "metadata": {
        "id": "bYcgcN1abcYm"
      }
    },
    {
      "cell_type": "markdown",
      "source": [
        "## Pipe properties"
      ],
      "metadata": {
        "id": "uYH-RWmpGiTJ"
      }
    },
    {
      "cell_type": "code",
      "source": [
        "def main():\n",
        "    # process non-flag arguments\n",
        "    pipe = hyd.Pipe_Properties(flow = 3.72, dn = 1.2)\n",
        "\n",
        "    print(f\"1. velocity of the fluid: {pipe.velocity():.2f} m/s\")\n",
        "    print(f\"2. Reynols Number: {pipe.reynolds():,.2f}\")\n",
        "    print(f\"3. friction factor of the pipe: {pipe.friction_factor(roughness = 1.5e-6):e}\")\n",
        "    print(f\"4. head losses: {pipe.head_losses(roughness = 1.5e-6, plength = 970):.2f} meter\")\n",
        "    print(f\"5. Absolute Roughness of the pipe: {pipe.roughness(dp = 4.1848, plength = 970):e} in meter\")\n",
        "  \n",
        "if __name__ == '__main__':\n",
        "    main()"
      ],
      "metadata": {
        "id": "KAHL61op7uZr",
        "colab": {
          "base_uri": "https://localhost:8080/"
        },
        "outputId": "f529cd0d-7aef-4dac-84c6-451ac9a3cc74"
      },
      "execution_count": 7,
      "outputs": [
        {
          "output_type": "stream",
          "name": "stdout",
          "text": [
            "1. velocity of the fluid: 3.29 m/s\n",
            "2. Reynols Number: 3,886,690.71\n",
            "3. friction factor of the pipe: 9.385831e-03\n",
            "4. head losses: 4.18 meter\n",
            "5. Absolute Roughness of the pipe: 1.041732e-06 in meter\n"
          ]
        }
      ]
    },
    {
      "cell_type": "markdown",
      "source": [
        "## Control Valves properties"
      ],
      "metadata": {
        "id": "zLsYOukeeFo4"
      }
    },
    {
      "cell_type": "code",
      "source": [
        "def main():\n",
        "  valve1 = hyd.control_valve_Properties(dn = 0.4, pu = 2, pd=1, flow = 0.1, masl = 0, tempC = 20)\n",
        "\n",
        "  print(f\"Atmospheric pressure: {valve1.atm_pressure():.2f} (bar)\")\n",
        "  print(f\"Flow coefficient (Kv): {valve1.flow_coefficient():.2f} (m^3/h)\")\n",
        "  print(f\"Zeta Value: {valve1.zeta_value():,.2f}\")\n",
        "  print(f\"Velocity of the fluid: {valve1.velocity():.2f} m/s\")\n",
        "  print(f\"Sigma Values (Sigma_0, Sigma_1, Sigma_2): {valve1.sigmas()}\")\n",
        "\n",
        "if __name__ == '__main__':\n",
        "    main()"
      ],
      "metadata": {
        "colab": {
          "base_uri": "https://localhost:8080/"
        },
        "id": "41Wri0Z-eEDd",
        "outputId": "0fb2c722-25a3-4e97-99a9-75ac29d9eba4"
      },
      "execution_count": 8,
      "outputs": [
        {
          "output_type": "stream",
          "name": "stdout",
          "text": [
            "Atmospheric pressure: 1.01 (bar)\n",
            "Flow coefficient (Kv): 360.38 (m^3/h)\n",
            "Zeta Value: 314.74\n",
            "Velocity of the fluid: 0.80 m/s\n",
            "Sigma Values (Sigma_0, Sigma_1, Sigma_2): (2.989866587694268, 1.989866587694268, 1.9276289582313382)\n"
          ]
        }
      ]
    }
  ]
}